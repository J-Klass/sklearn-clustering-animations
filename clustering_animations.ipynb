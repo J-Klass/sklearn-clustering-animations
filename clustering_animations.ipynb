{
 "cells": [
  {
   "cell_type": "code",
   "execution_count": null,
   "metadata": {},
   "outputs": [],
   "source": [
    "%load_ext nb_black"
   ]
  },
  {
   "cell_type": "markdown",
   "metadata": {},
   "source": [
    "# Scikit Learn Clustering Animations"
   ]
  },
  {
   "cell_type": "code",
   "execution_count": null,
   "metadata": {},
   "outputs": [],
   "source": [
    "# Imports\n",
    "import os\n",
    "from itertools import cycle\n",
    "from pathlib import Path\n",
    "\n",
    "import imageio\n",
    "import matplotlib.pyplot as plt\n",
    "import numpy as np\n",
    "import pandas as pd\n",
    "from sklearn.cluster import AffinityPropagation, MeanShift, estimate_bandwidth\n",
    "from sklearn.datasets import make_blobs"
   ]
  },
  {
   "cell_type": "code",
   "execution_count": null,
   "metadata": {},
   "outputs": [],
   "source": [
    "# Plots in dark mode\n",
    "plt.style.use(\"dark_background\")\n",
    "\n",
    "# Paths\n",
    "PATH = os.getcwd()\n",
    "MS_PATH = PATH + \"/ms_cluster\"\n",
    "AF_PATH = PATH + \"/af_cluster\""
   ]
  },
  {
   "cell_type": "code",
   "execution_count": null,
   "metadata": {},
   "outputs": [],
   "source": [
    "# Generate sample data\n",
    "centers = [[1, 1], [-1, -1], [1, -1]]\n",
    "matrix_x, _ = make_blobs(n_samples=10000, centers=centers, cluster_std=0.6)"
   ]
  },
  {
   "cell_type": "markdown",
   "metadata": {},
   "source": [
    "## Mean Shift Clustering"
   ]
  },
  {
   "cell_type": "code",
   "execution_count": null,
   "metadata": {},
   "outputs": [],
   "source": [
    "def plot_ms_results(X, n_clusters_, labels, cluster_centers):\n",
    "    plt.figure(1)\n",
    "    plt.clf()\n",
    "    colors = cycle(\"bgrcmykbgrcmykbgrcmykbgrcmyk\")\n",
    "    for k, col in zip(range(n_clusters_), colors):\n",
    "        my_members = labels == k\n",
    "        cluster_center = cluster_centers[k]\n",
    "        plt.plot(X[my_members, 0], X[my_members, 1], col + \".\")\n",
    "        plt.plot(\n",
    "            cluster_center[0],\n",
    "            cluster_center[1],\n",
    "            \"o\",\n",
    "            markerfacecolor=col,\n",
    "            markeredgecolor=\"k\",\n",
    "            markersize=14,\n",
    "        )\n",
    "    plt.title(\"Estimated number of clusters: %d\" % n_clusters_)\n",
    "    return plt"
   ]
  },
  {
   "cell_type": "code",
   "execution_count": null,
   "metadata": {},
   "outputs": [],
   "source": [
    "# Create folder for MS cluster plots\n",
    "Path(MS_PATH).mkdir(parents=True, exist_ok=True)\n",
    "\n",
    "for itr in range(0, 10):\n",
    "    # Mean shift clustering\n",
    "    bandwidth = estimate_bandwidth(matrix_x, quantile=0.2, n_samples=500)\n",
    "    ms = MeanShift(bandwidth=bandwidth, bin_seeding=True, max_iter=itr)\n",
    "    ms.fit(matrix_x)\n",
    "\n",
    "    cluster_centers = ms.cluster_centers_\n",
    "    labels = ms.labels_\n",
    "    labels_unique = np.unique(labels)\n",
    "    n_clusters_ = len(labels_unique)\n",
    "\n",
    "    # Plotting the results\n",
    "    plot_ms_results(matrix_x, n_clusters_, labels, cluster_centers).savefig(\n",
    "        \"ms_cluster/ms_cluster_\" + str(itr) + \".png\", dpi=600\n",
    "    )"
   ]
  },
  {
   "cell_type": "code",
   "execution_count": null,
   "metadata": {},
   "outputs": [],
   "source": [
    "# Creating gif\n",
    "filenames = []\n",
    "for file in os.listdir(MS_PATH):\n",
    "    if file.endswith(\".png\"):\n",
    "        filenames.append(os.path.join(MS_PATH, file))\n",
    "filenames.sort()\n",
    "images = []\n",
    "for filename in filenames:\n",
    "    images.append(imageio.imread(filename))\n",
    "kargs = {\"duration\": 1}\n",
    "imageio.mimsave(PATH + \"/ms_clustering.gif\", images, **kargs)"
   ]
  },
  {
   "cell_type": "markdown",
   "metadata": {},
   "source": [
    "## Affinity Propagation Clustering"
   ]
  },
  {
   "cell_type": "code",
   "execution_count": null,
   "metadata": {},
   "outputs": [],
   "source": [
    "# Generate sample data\n",
    "matrix_x = np.load(\"X.npy\")"
   ]
  },
  {
   "cell_type": "code",
   "execution_count": null,
   "metadata": {},
   "outputs": [],
   "source": [
    "def plot_af_clustering_results(X, n_clusters_, labels, cluster_centers_indices):\n",
    "    plt.close(\"all\")\n",
    "    plt.figure(1)\n",
    "    plt.clf()\n",
    "\n",
    "    colors = cycle(\"bgrcmykbgrcmykbgrcmykbgrcmyk\")\n",
    "    for k, col in zip(range(n_clusters_), colors):\n",
    "        class_members = labels == k\n",
    "        cluster_center = X[cluster_centers_indices[k]]\n",
    "        plt.plot(X[class_members, 0], X[class_members, 1], col + \".\")\n",
    "        plt.plot(\n",
    "            cluster_center[0],\n",
    "            cluster_center[1],\n",
    "            \"o\",\n",
    "            markerfacecolor=col,\n",
    "            markeredgecolor=\"k\",\n",
    "            markersize=14,\n",
    "        )\n",
    "        for x in X[class_members]:\n",
    "            plt.plot([cluster_center[0], x[0]], [cluster_center[1], x[1]], col)\n",
    "\n",
    "    plt.title(\"Estimated number of clusters: %d\" % n_clusters_)\n",
    "    return plt"
   ]
  },
  {
   "cell_type": "code",
   "execution_count": null,
   "metadata": {},
   "outputs": [],
   "source": [
    "# Create folder for AF cluster plots\n",
    "Path(AF_PATH).mkdir(parents=True, exist_ok=True)\n",
    "\n",
    "for itr in range(1, 10):\n",
    "    # Affinity propagation clustering\n",
    "    af = AffinityPropagation(convergence_iter=itr).fit(matrix_x)\n",
    "    cluster_centers_indices = af.cluster_centers_indices_\n",
    "    labels = af.labels_\n",
    "    n_clusters_ = len(cluster_centers_indices)\n",
    "    # Plotting the results\n",
    "    plot_af_clustering_results(\n",
    "        matrix_x, n_clusters_, labels, cluster_centers_indices\n",
    "    ).savefig(\"af_cluster/af_cluster_\" + str(itr) + \".png\", dpi=600)"
   ]
  },
  {
   "cell_type": "code",
   "execution_count": null,
   "metadata": {},
   "outputs": [],
   "source": [
    "# Creating gif\n",
    "filenames = []\n",
    "for file in os.listdir(AF_PATH):\n",
    "    if file.endswith(\".png\"):\n",
    "        filenames.append(os.path.join(AF_PATH, file))\n",
    "filenames.sort()\n",
    "images = []\n",
    "for filename in filenames:\n",
    "    images.append(imageio.imread(filename))\n",
    "kargs = {\"duration\": 1}\n",
    "imageio.mimsave(PATH + \"/af_clustering.gif\", images, **kargs)"
   ]
  }
 ],
 "metadata": {
  "kernelspec": {
   "display_name": "Python 3",
   "language": "python",
   "name": "python3"
  },
  "language_info": {
   "codemirror_mode": {
    "name": "ipython",
    "version": 3
   },
   "file_extension": ".py",
   "mimetype": "text/x-python",
   "name": "python",
   "nbconvert_exporter": "python",
   "pygments_lexer": "ipython3",
   "version": "3.8.1"
  }
 },
 "nbformat": 4,
 "nbformat_minor": 4
}
